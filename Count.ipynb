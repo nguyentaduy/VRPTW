{
 "cells": [
  {
   "cell_type": "code",
   "execution_count": 5,
   "metadata": {
    "collapsed": true
   },
   "outputs": [],
   "source": [
    "import os\n",
    "import numpy as np\n",
    "import matplotlib.pyplot as plt\n",
    "%matplotlib inline  "
   ]
  },
  {
   "cell_type": "code",
   "execution_count": 6,
   "metadata": {
    "collapsed": false
   },
   "outputs": [],
   "source": [
    "def read_out(file):\n",
    "    with open(file, \"r\") as f:\n",
    "        lines = f.readlines()\n",
    "        return lines"
   ]
  },
  {
   "cell_type": "code",
   "execution_count": 7,
   "metadata": {
    "collapsed": true
   },
   "outputs": [],
   "source": [
    "def read_file(file_name, N):\n",
    "    x, y, q, a, b, serv = [], [], [], [], [], []\n",
    "    K, Q = 0, 0\n",
    "    with open (file_name) as f:\n",
    "        lines = f.readlines()\n",
    "        K,Q = lines[4].split()\n",
    "        K = int(K)\n",
    "        Q = int(Q)\n",
    "        option = lines[5].strip()[-2:]\n",
    "        for i in range(9, 10 + N):\n",
    "            _,x_i, y_i, q_i, a_i, b_i, serv_i  = str(lines[i]).split()\n",
    "            x.append(int(x_i))\n",
    "            y.append(int(y_i))\n",
    "            q.append(int(q_i))\n",
    "            a.append(int(a_i))\n",
    "            b.append(int(b_i))\n",
    "            serv.append(int(serv_i))\n",
    "    return K, Q, x, y, q, a, b, serv"
   ]
  },
  {
   "cell_type": "markdown",
   "metadata": {},
   "source": [
    "Read training data and count the frequencies of arcs, and choose arcs to remove then write them in a file.  \n",
    "Different policies of choosing arcs to removed are in the comment.  \n",
    "Filter 1: Two customers have never been on the same route, then the arcs between them are removed.  \n",
    "Filter 2: Filter 1+  \n",
    "Filter 3: If two customers have never been consecutive then the arcs between them are removed.  \n",
    "Consider also some additional filters  \n",
    "For each arc whose frequencies less than a threshold, choos"
   ]
  },
  {
   "cell_type": "code",
   "execution_count": 8,
   "metadata": {
    "collapsed": false,
    "scrolled": true
   },
   "outputs": [
    {
     "name": "stdout",
     "output_type": "stream",
     "text": [
      "51\n"
     ]
    },
    {
     "data": {
      "image/png": "[encoded data removed]",
      "text/plain": [
       "<matplotlib.figure.Figure at 0x10caa05c0>"
      ]
     },
     "metadata": {},
     "output_type": "display_data"
    },
    {
     "name": "stdout",
     "output_type": "stream",
     "text": [
      "9567\n"
     ]
    }
   ],
   "source": [
    "K, Q, x, y, q, a, b, serv = read_file(\"In/rc101.txt\", 100)\n",
    "# a = []\n",
    "c = 0\n",
    "locations = {}\n",
    "for i in range(101):\n",
    "    locations[str(x[i]) + \" \" + str(y[i])] = i\n",
    "l_ = {}\n",
    "arcs = np.zeros(101 * 101)\n",
    "arcs = arcs.reshape(101,101)\n",
    "with open(\"removed-arcs/train_rc101\", \"w\") as f:\n",
    "    for file in os.listdir(\"Test_in_out/1/\"):\n",
    "        if file.startswith(\"rc101\"):\n",
    "            if c < 225:\n",
    "                c += 1\n",
    "                out = read_out(\"Test_in_out/1/\" + file)\n",
    "                x_ = []\n",
    "                y_ = []\n",
    "                for line in out:\n",
    "                    coords = line.strip().split()\n",
    "                    x_.append(coords[0] + \" \" + coords[1])\n",
    "                    y_.append(coords[2] + \" \" + coords[3])\n",
    "                    if not (coords[0] + \" \" + coords[1]) in l_:\n",
    "                        l_[coords[0] + \" \" + coords[1]] = True\n",
    "                    if not (coords[2] + \" \" + coords[3]) in l_:\n",
    "                        l_[coords[2] + \" \" + coords[3]] = True\n",
    "# Uncomment this and comment part 1 to use filter 3\n",
    "#                 for i in range(len(x_)):\n",
    "#                     arcs[locations[x_[i]]][locations[y_[i]]] += 1\n",
    "# Starting of part 1\n",
    "                aa = []\n",
    "                for i in range(len(x_)):\n",
    "                    if locations[y_[i]] == 0:\n",
    "                        for j in range(len(aa) - 1):\n",
    "                            for k in range(j + 1, len(aa)):\n",
    "                                arcs[aa[j]][aa[k]] = arcs[aa[j]][aa[k]] + 1\n",
    "#                                 arcs[aa[k]][aa[j]] = arcs[aa[k]][aa[j]] + 1\n",
    "# uncomment this to use filter 2\n",
    "                        aa = [0]\n",
    "                    else:\n",
    "                        aa.append(locations[y_[i]])\n",
    "# end of part 1\n",
    "            else:\n",
    "#                 pass\n",
    "                f.write(file+\"\\n\")\n",
    "\n",
    "plt.figure(figsize=(8,4))\n",
    "# plt.scatter(x,y)\n",
    "cc = 0\n",
    "\n",
    "# for i in range(1, len(x) - 1):\n",
    "#     for j in range(i, len(x)):\n",
    "#         if i!= j and arcs[i][j]/c > 0.05:\n",
    "#             cc+=1\n",
    "#             plt.plot([x[i], x[j]], [y[i], y[j]], \"r\")\n",
    "ca = 0\n",
    "for i in range(0, len(x)):\n",
    "    if (str(x[i]) + \" \" + str(y[i])) in l_ :\n",
    "        plt.scatter([x[i]], [y[i]])\n",
    "        ca += 1\n",
    "print(ca)\n",
    "with open(\"removed-arcs/rc101_11\", \"w\") as f:\n",
    "    for i in range(1, len(x)):\n",
    "        for j in range(1, len(x)):\n",
    "            if i!= j:\n",
    "                mm =  int((arcs[i][j]/c) * 1000)//10\n",
    "            if i!= j and mm <= 5:\n",
    "                s = np.random.random()\n",
    "                if s > mm/5:\n",
    "                    cc += 1\n",
    "                    f.write(str(x[i]) + \" \" + str(y[i]) + \" \" + str(x[j]) + \" \" + str(y[j]) + \"\\n\")\n",
    "#             if i!= j and arcs[i][j] == 0:\n",
    "#                 cc+=1\n",
    "#                 f.write(str(x[i]) + \" \" + str(y[i]) + \" \" + str(x[j]) + \" \" + str(y[j]) + \"\\n\")\n",
    "# #                 plt.plot([x[i], x[j]], [y[i], y[j]], \"r\")\n",
    "#             elif i!= j and arcs[i][j]/c <= 0.1:\n",
    "#                 s = np.random.random()\n",
    "#                 if s > 1/3:\n",
    "#                     cc+=1\n",
    "#                     f.write(str(x[i]) + \" \" + str(y[i]) + \" \" + str(x[j]) + \" \" + str(y[j]) + \"\\n\")\n",
    "\n",
    "# This part chooses arcs that appear frequently\n",
    "# with open(\"frequent-arcs/rc101\", \"w\") as f:\n",
    "#     for i in range(1, len(x) - 1):\n",
    "#         for j in range(1, len(x)):\n",
    "#             if i!= j and arcs[i][j]/c > 0.5:\n",
    "#                 cc+=1\n",
    "# #                 f.write(str(x[i]) + \" \" + str(y[i]) + \" \" + str(x[j]) + \" \" + str(y[j]) + \"\\n\")\n",
    "# #                 plt.plot([x[i], x[j]], [y[i], y[j]], \"r\")\n",
    "plt.show()\n",
    "print(cc)"
   ]
  },
  {
   "cell_type": "markdown",
   "metadata": {},
   "source": [
    "Below are the codes to do clustering for larger problem.  \n",
    "Starting from each node in its own cluster, consider the list of arcs in decreasing order of frequencies.  \n",
    "Two clusters are joined if an arc between them appears  "
   ]
  },
  {
   "cell_type": "code",
   "execution_count": 9,
   "metadata": {
    "collapsed": false
   },
   "outputs": [],
   "source": [
    "label = {}"
   ]
  },
  {
   "cell_type": "code",
   "execution_count": 10,
   "metadata": {
    "collapsed": true
   },
   "outputs": [],
   "source": [
    "def get_label(i):\n",
    "    x = i\n",
    "    while label[x] != x:\n",
    "        x = label[x]\n",
    "    return x"
   ]
  },
  {
   "cell_type": "code",
   "execution_count": 11,
   "metadata": {
    "collapsed": false
   },
   "outputs": [],
   "source": [
    "list_arcs = []\n",
    "for i in range(1,51):\n",
    "    for j in range(i + 1, 51):\n",
    "        list_arcs.append((i,j))"
   ]
  },
  {
   "cell_type": "code",
   "execution_count": 12,
   "metadata": {
    "collapsed": false
   },
   "outputs": [],
   "source": [
    "list_arcs = sorted(list_arcs, key= lambda x: -arcs[x[0]][x[1]])"
   ]
  },
  {
   "cell_type": "code",
   "execution_count": 13,
   "metadata": {
    "collapsed": false
   },
   "outputs": [],
   "source": [
    "label = {}\n",
    "for i in range(0, len(x)):\n",
    "    label[i] = i\n",
    "union = []\n",
    "for i in range(len(x)):\n",
    "    union.append([i])\n",
    "for h in list_arcs:\n",
    "    i, j = h[0], h[1]\n",
    "    l_i = get_label(i)\n",
    "    l_j = get_label(j)\n",
    "    if l_i != 0 and l_j != 0 and len(union[l_i]) + len(union[l_j]) < 30:\n",
    "        if (l_i < l_j):\n",
    "            union[l_i].extend(union[l_j])\n",
    "#                         if len(union[l_i]) > 50:\n",
    "#                             label[l_i] = 0\n",
    "            label[l_j] = l_i\n",
    "        elif (l_j < l_i):\n",
    "            union[l_j].extend(union[l_i])\n",
    "#                         if len(union[l_j]) > 50:\n",
    "#                             label[l_j] = 0\n",
    "            label[l_i] = l_j\n",
    "                "
   ]
  },
  {
   "cell_type": "code",
   "execution_count": 14,
   "metadata": {
    "collapsed": false
   },
   "outputs": [
    {
     "name": "stdout",
     "output_type": "stream",
     "text": [
      "29 \n",
      "\n",
      "21 \n",
      "\n",
      "1 \n",
      "\n",
      "1 \n",
      "\n",
      "1 \n",
      "\n",
      "1 \n",
      "\n",
      "1 \n",
      "\n",
      "1 \n",
      "\n",
      "1 \n",
      "\n",
      "1 \n",
      "\n",
      "1 \n",
      "\n",
      "1 \n",
      "\n",
      "1 \n",
      "\n",
      "1 \n",
      "\n",
      "1 \n",
      "\n",
      "1 \n",
      "\n",
      "1 \n",
      "\n",
      "1 \n",
      "\n",
      "1 \n",
      "\n",
      "1 \n",
      "\n",
      "1 \n",
      "\n",
      "1 \n",
      "\n",
      "1 \n",
      "\n",
      "1 \n",
      "\n",
      "1 \n",
      "\n",
      "1 \n",
      "\n",
      "1 \n",
      "\n",
      "1 \n",
      "\n",
      "1 \n",
      "\n",
      "1 \n",
      "\n",
      "1 \n",
      "\n",
      "1 \n",
      "\n",
      "1 \n",
      "\n",
      "1 \n",
      "\n",
      "1 \n",
      "\n",
      "1 \n",
      "\n",
      "1 \n",
      "\n",
      "1 \n",
      "\n",
      "1 \n",
      "\n",
      "1 \n",
      "\n",
      "1 \n",
      "\n",
      "1 \n",
      "\n",
      "1 \n",
      "\n",
      "1 \n",
      "\n",
      "1 \n",
      "\n",
      "1 \n",
      "\n",
      "1 \n",
      "\n",
      "1 \n",
      "\n",
      "1 \n",
      "\n",
      "1 \n",
      "\n",
      "1 \n",
      "\n",
      "1 \n",
      "\n"
     ]
    },
    {
     "data": {
      "image/png": "[encoded data removed]",
      "text/plain": [
       "<matplotlib.figure.Figure at 0x10a5d9b38>"
      ]
     },
     "metadata": {},
     "output_type": "display_data"
    }
   ],
   "source": [
    "kk = 0\n",
    "colors = ['b', 'r', 'c', 'g', 'k', 'y', 'm', '#eeefff', '#e00f00', '#111fff']\n",
    "plt.scatter(x,y)\n",
    "color_ = 0\n",
    "for i in range(1, len(x)):\n",
    "    if label[i] == i or label[i] == 0:\n",
    "        print(len(union[i]), \"\\n\")\n",
    "        for u_1 in union[i]:\n",
    "            for u_2 in union[i]:\n",
    "                if u_2 > u_1 and arcs[u_1][u_2] > 0:\n",
    "                    plt.plot([x[u_1], x[u_2]], [y[u_1], y[u_2]], color = colors[color_])\n",
    "        kk += len(union[i])\n",
    "        color_ += 1"
   ]
  },
  {
   "cell_type": "code",
   "execution_count": 31,
   "metadata": {
    "collapsed": true
   },
   "outputs": [],
   "source": [
    "def write_to_file(filename, x, y):\n",
    "    with open(filename, 'w') as f:\n",
    "        for i in range(len(x)):\n",
    "            f.write(str(x[i]) + \" \" + str(y[i]) + \"\\n\")"
   ]
  },
  {
   "cell_type": "code",
   "execution_count": 32,
   "metadata": {
    "collapsed": true
   },
   "outputs": [],
   "source": [
    "def create_sub_problem(basename, label, union, x, y):\n",
    "    sub = 0\n",
    "    for i in range(1, len(x)):\n",
    "        if label[i] == i or label[i] == 0:\n",
    "            sub += 1\n",
    "            x_ = []\n",
    "            y_ = []\n",
    "            for j in union[i]:\n",
    "                x_.append(x[j])\n",
    "                y_.append(y[j])\n",
    "            filename = \"Subprob-30/\" + basename+\"_\"+str(sub)\n",
    "            write_to_file(filename,x_, y_)"
   ]
  },
  {
   "cell_type": "code",
   "execution_count": 19,
   "metadata": {
    "collapsed": false
   },
   "outputs": [],
   "source": [
    "create_sub_problem(\"RC1\", label, union, x, y)"
   ]
  }
 ],
 "metadata": {
  "anaconda-cloud": {},
  "kernelspec": {
   "display_name": "Python [Root]",
   "language": "python",
   "name": "Python [Root]"
  },
  "language_info": {
   "codemirror_mode": {
    "name": "ipython",
    "version": 3
   },
   "file_extension": ".py",
   "mimetype": "text/x-python",
   "name": "python",
   "nbconvert_exporter": "python",
   "pygments_lexer": "ipython3",
   "version": "3.5.2"
  }
 },
 "nbformat": 4,
 "nbformat_minor": 0
}
