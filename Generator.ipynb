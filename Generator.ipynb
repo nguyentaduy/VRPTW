{
 "cells": [
  {
   "cell_type": "code",
   "execution_count": 1,
   "metadata": {
    "collapsed": true
   },
   "outputs": [],
   "source": [
    "def write_to_file(filename, N, K, Q, x, y, q, a, b, serv):\n",
    "    with open(filename, 'w') as f:\n",
    "        f.write(filename + \"\\n\\n\")\n",
    "        f.write(\"VEHICLE\\nNUMBER CAPACITY\\n\")\n",
    "        f.write(str(K)+  \" \" + str(Q) + \"\\n\\n\")\n",
    "        f.write(\"CUSTOMER\\nCUST NO. XCOORD. YCOORD. DEMAND READY TIME DUE DATE SERVICE TIME\\n\\n\")\n",
    "        for i in range(N + 1):\n",
    "            f.write(str(i)+  \" \" + str(x[i]) + \" \"+ str(y[i]) +\" \"+ str(q[i]) + \" \" + str(a[i])\\\n",
    "                    + \" \" + str(b[i])+ \" \" + str(serv[i]) + \"\\n\")\n",
    "    return  "
   ]
  },
  {
   "cell_type": "code",
   "execution_count": 2,
   "metadata": {
    "collapsed": false
   },
   "outputs": [],
   "source": [
    "from random import randint\n",
    "from random import random\n",
    "def generate(base_name, number_of_instances, N, K, Q, x, y, q, a, b, serv,option):\n",
    "    for i in range(number_of_instances):\n",
    "        \n",
    "        up = 10\n",
    "        low = 1\n",
    "        if option == \"SS\":\n",
    "            up = 10\n",
    "            low = 5\n",
    "        elif option == \"LL\":\n",
    "            up = 100\n",
    "            low = 1\n",
    "        elif option == \"LS\":\n",
    "            up = 100\n",
    "            low = 50\n",
    "        q_ = [0]\n",
    "        index = [0]\n",
    "        for j in range(1, N + 1):\n",
    "            s = random()\n",
    "            if s >= 0.2:\n",
    "                q_.append(randint(low,up))\n",
    "                index.append(j)\n",
    "        k = min(K, 75)\n",
    "        N_ = len(q_) - 1\n",
    "        x_ = [x[k] for k in index]\n",
    "        y_ = [y[k] for k in index]\n",
    "        a_ = [a[k] for k in index]\n",
    "        b_ = [b[k] for k in index]\n",
    "        serv_ = [serv[k] for k in index]\n",
    "        write_to_file(str(base_name) + \"_\" + str(i), N_, k, Q, x_, y_, q_, a_, b_, serv_)"
   ]
  },
  {
   "cell_type": "code",
   "execution_count": 3,
   "metadata": {
    "collapsed": true
   },
   "outputs": [],
   "source": [
    "def read_file(file_name, N):\n",
    "    x, y, q, a, b, serv = [], [], [], [], [], []\n",
    "    K, Q = 0, 0\n",
    "    with open (file_name) as f:\n",
    "        lines = f.readlines()\n",
    "        K,Q = lines[4].split()\n",
    "        K = int(K)\n",
    "        Q = int(Q)\n",
    "        option = lines[5].strip()[-2:]\n",
    "        for i in range(9, 10 + N):\n",
    "            _,x_i, y_i, q_i, a_i, b_i, serv_i  = str(lines[i]).split()\n",
    "            x.append(int(x_i))\n",
    "            y.append(int(y_i))\n",
    "            q.append(int(q_i))\n",
    "            a.append(int(a_i))\n",
    "            b.append(int(b_i))\n",
    "            serv.append(int(serv_i))\n",
    "    return K, Q, x, y, q, a, b, serv, option"
   ]
  },
  {
   "cell_type": "code",
   "execution_count": 4,
   "metadata": {
    "collapsed": false
   },
   "outputs": [
    {
     "name": "stdout",
     "output_type": "stream",
     "text": [
      "LL\n"
     ]
    }
   ],
   "source": [
    "N = 200\n",
    "K, Q, x, y, q, a, b, serv,option = read_file(\"solomon-benchmark/generated_instances/43\", N)\n",
    "print(option)\n",
    "generate(\"Test/43\", 250, N, K, Q, x, y, q, a, b, serv, option)"
   ]
  },
  {
   "cell_type": "code",
   "execution_count": 6,
   "metadata": {
    "collapsed": false
   },
   "outputs": [
    {
     "data": {
      "image/png": "[encoded data removed]",
      "text/plain": [
       "<matplotlib.figure.Figure at 0x10a3f7160>"
      ]
     },
     "metadata": {},
     "output_type": "display_data"
    }
   ],
   "source": [
    "import matplotlib.pyplot as plt\n",
    "%matplotlib inline  \n",
    "K, Q, x, y, q, a, b, serv, option = read_file(\"solomon-benchmark/generated_instances/43\", 200)\n",
    "plt.scatter(x,y)\n",
    "plt.show()"
   ]
  },
  {
   "cell_type": "code",
   "execution_count": null,
   "metadata": {
    "collapsed": true
   },
   "outputs": [],
   "source": []
  }
 ],
 "metadata": {
  "anaconda-cloud": {},
  "kernelspec": {
   "display_name": "Python [Root]",
   "language": "python",
   "name": "Python [Root]"
  },
  "language_info": {
   "codemirror_mode": {
    "name": "ipython",
    "version": 3
   },
   "file_extension": ".py",
   "mimetype": "text/x-python",
   "name": "python",
   "nbconvert_exporter": "python",
   "pygments_lexer": "ipython3",
   "version": "3.5.2"
  }
 },
 "nbformat": 4,
 "nbformat_minor": 0
}
