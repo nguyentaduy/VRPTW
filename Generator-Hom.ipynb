{
 "cells": [
  {
   "cell_type": "code",
   "execution_count": 1,
   "metadata": {
    "collapsed": true
   },
   "outputs": [],
   "source": [
    "def write_to_file(filename, N, K, Q, x, y, q, a, b, serv):\n",
    "    with open(filename, 'w') as f:\n",
    "        f.write(filename + \"\\n\\n\")\n",
    "        f.write(\"VEHICLE\\nNUMBER CAPACITY\\n\")\n",
    "        f.write(str(K)+  \" \" + str(Q) + \"\\n\\n\")\n",
    "        f.write(\"CUSTOMER\\nCUST NO. XCOORD. YCOORD. DEMAND READY TIME DUE DATE SERVICE TIME\\n\\n\")\n",
    "        for i in range(N + 1):\n",
    "            f.write(str(i)+  \" \" + str(x[i]) + \" \"+ str(y[i]) +\" \"+ str(q[i]) + \" \" + str(a[i])\\\n",
    "                    + \" \" + str(b[i])+ \" \" + str(serv[i]) + \"\\n\")\n",
    "    return  "
   ]
  },
  {
   "cell_type": "code",
   "execution_count": 2,
   "metadata": {
    "collapsed": false
   },
   "outputs": [],
   "source": [
    "from random import randint\n",
    "from random import random\n",
    "from math import floor\n",
    "def generate(base_name, number_of_instances, N, K, Q, x, y, q, a, b, serv):\n",
    "    for i in range(number_of_instances):\n",
    "        \n",
    "        up = 50\n",
    "        low = 1\n",
    "        q_ = [0]\n",
    "        index = [0]\n",
    "        for j in range(1, N + 1):\n",
    "            s = random()\n",
    "            if s >= 0.2:\n",
    "                q_.append(randint(low,up))\n",
    "                index.append(j)\n",
    "        kk = min(K, 75)\n",
    "        N_ = len(q_) - 1\n",
    "        x_ = [x[k] for k in index]\n",
    "        y_ = [y[k] for k in index]\n",
    "        a_ = [a[k] for k in index]\n",
    "        b_ = [b[k] for k in index]\n",
    "        serv_ = [serv[k] for k in index]\n",
    "        write_to_file(str(base_name) + \"_\" + str(i), N_, kk, Q, x_, y_, q_, a_, b_, serv_)"
   ]
  },
  {
   "cell_type": "code",
   "execution_count": 3,
   "metadata": {
    "collapsed": false
   },
   "outputs": [],
   "source": [
    "def read_file(file_name, N):\n",
    "    x, y, q, a, b, serv = [], [], [], [], [], []\n",
    "    K, Q = 0, 0\n",
    "    with open (file_name) as f:\n",
    "        lines = f.readlines()\n",
    "        K,Q = lines[4].split()\n",
    "        K = int(K)\n",
    "        Q = int(Q)\n",
    "        taken = {}\n",
    "        taken[9] = True\n",
    "        c = 0\n",
    "        while (c < 50):\n",
    "            j = 0\n",
    "            s = random()\n",
    "            if s < 2/3:\n",
    "                j = floor(random() * N) + 10\n",
    "            else: \n",
    "                j = N + floor(random() * N) + 10\n",
    "            if not j in taken:\n",
    "                c += 1\n",
    "                taken[j] = True\n",
    "#         for j in range(N):\n",
    "#             taken[10 + j] = True\n",
    "        for i in taken:\n",
    "            _,x_i, y_i, q_i, a_i, b_i, serv_i  = str(lines[int(i)]).split()\n",
    "            x.append(int(x_i))\n",
    "            y.append(int(y_i))\n",
    "            q.append(int(q_i))\n",
    "            a.append(int(a_i))\n",
    "            b.append(int(b_i))\n",
    "            serv.append(int(serv_i))\n",
    "    return K, Q, x, y, q, a, b, serv"
   ]
  },
  {
   "cell_type": "code",
   "execution_count": 4,
   "metadata": {
    "collapsed": false
   },
   "outputs": [],
   "source": [
    "N = 50\n",
    "K, Q, x, y, q, a, b, serv = read_file(\"In/c101.txt\", N)\n",
    "generate(\"Test_in/c1_50/c101\", 250, N, K, Q, x, y, q, a, b, serv)\n",
    "# N = 50\n",
    "# K, Q, x, y, q, a, b, serv = read_file(\"In/rc202.txt\", N)\n",
    "# generate(\"Test_in/10/rc202\", 250, N, K, Q, x, y, q, a, b, serv)\n",
    "# N = 50\n",
    "# K, Q, x, y, q, a, b, serv = read_file(\"In/rc203.txt\", N)\n",
    "# generate(\"Test_in/11/rc203\", 250, N, K, Q, x, y, q, a, b, serv)\n",
    "# N = 50\n",
    "# K, Q, x, y, q, a, b, serv = read_file(\"In/rc204.txt\", N)\n",
    "# generate(\"Test_in/12/rc204\", 250, N, K, Q, x, y, q, a, b, serv)\n",
    "# N = 50\n",
    "# K, Q, x, y, q, a, b, serv = read_file(\"In/rc205.txt\", N)\n",
    "# generate(\"Test_in/13/rc205\", 250, N, K, Q, x, y, q, a, b, serv)\n",
    "# N = 50\n",
    "# K, Q, x, y, q, a, b, serv = read_file(\"In/rc206.txt\", N)\n",
    "# generate(\"Test_in/14/rc206\", 250, N, K, Q, x, y, q, a, b, serv)\n",
    "# N = 50\n",
    "# K, Q, x, y, q, a, b, serv = read_file(\"In/rc207.txt\", N)\n",
    "# generate(\"Test_in/15/rc207\", 250, N, K, Q, x, y, q, a, b, serv)\n",
    "# N = 50\n",
    "# K, Q, x, y, q, a, b, serv = read_file(\"In/rc208.txt\", N)\n",
    "# generate(\"Test_in/16/rc208\", 250, N, K, Q, x, y, q, a, b, serv)\n",
    "\n"
   ]
  },
  {
   "cell_type": "code",
   "execution_count": 7,
   "metadata": {
    "collapsed": false
   },
   "outputs": [
    {
     "data": {
      "image/png": "[encoded data removed]",
      "text/plain": [
       "<matplotlib.figure.Figure at 0x10cd85908>"
      ]
     },
     "metadata": {},
     "output_type": "display_data"
    }
   ],
   "source": [
    "import matplotlib.pyplot as plt\n",
    "%matplotlib inline  \n",
    "K, Q, x, y, q, a, b, serv = read_file(\"In/r101.txt\", 100)\n",
    "plt.scatter(x,y)\n",
    "plt.show()"
   ]
  },
  {
   "cell_type": "code",
   "execution_count": null,
   "metadata": {
    "collapsed": true
   },
   "outputs": [],
   "source": []
  }
 ],
 "metadata": {
  "anaconda-cloud": {},
  "kernelspec": {
   "display_name": "Python [Root]",
   "language": "python",
   "name": "Python [Root]"
  },
  "language_info": {
   "codemirror_mode": {
    "name": "ipython",
    "version": 3
   },
   "file_extension": ".py",
   "mimetype": "text/x-python",
   "name": "python",
   "nbconvert_exporter": "python",
   "pygments_lexer": "ipython3",
   "version": "3.5.2"
  }
 },
 "nbformat": 4,
 "nbformat_minor": 0
}
